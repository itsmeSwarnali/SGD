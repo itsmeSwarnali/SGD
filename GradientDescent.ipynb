{
 "cells": [
  {
   "cell_type": "code",
   "execution_count": 62,
   "id": "978fa133-7d47-462d-bc56-40809f9951e7",
   "metadata": {},
   "outputs": [],
   "source": [
    "import pandas as pd\n",
    "import numpy as np\n",
    "import matplotlib.pyplot as plt #visualization\n",
    "from sklearn.model_selection import train_test_split #for spliting the dataset\n",
    "from sklearn.linear_model  import LinearRegression \n",
    "from sklearn.preprocessing import LabelEncoder\n",
    "from sklearn.preprocessing import StandardScaler\n",
    "from sklearn.metrics import mean_squared_error\n",
    "from sklearn.metrics import r2_score"
   ]
  },
  {
   "cell_type": "code",
   "execution_count": 63,
   "id": "1adc0fcf-fa18-4e3d-b0b4-134fd55f0304",
   "metadata": {},
   "outputs": [
    {
     "data": {
      "text/html": [
       "<div>\n",
       "<style scoped>\n",
       "    .dataframe tbody tr th:only-of-type {\n",
       "        vertical-align: middle;\n",
       "    }\n",
       "\n",
       "    .dataframe tbody tr th {\n",
       "        vertical-align: top;\n",
       "    }\n",
       "\n",
       "    .dataframe thead th {\n",
       "        text-align: right;\n",
       "    }\n",
       "</style>\n",
       "<table border=\"1\" class=\"dataframe\">\n",
       "  <thead>\n",
       "    <tr style=\"text-align: right;\">\n",
       "      <th></th>\n",
       "      <th>Marketing Spend</th>\n",
       "      <th>Administration</th>\n",
       "      <th>Transport</th>\n",
       "      <th>Area</th>\n",
       "      <th>Profit</th>\n",
       "    </tr>\n",
       "  </thead>\n",
       "  <tbody>\n",
       "    <tr>\n",
       "      <th>0</th>\n",
       "      <td>114523.61</td>\n",
       "      <td>136897.80</td>\n",
       "      <td>471784.10</td>\n",
       "      <td>Dhaka</td>\n",
       "      <td>192261.83</td>\n",
       "    </tr>\n",
       "    <tr>\n",
       "      <th>1</th>\n",
       "      <td>162597.70</td>\n",
       "      <td>151377.59</td>\n",
       "      <td>443898.53</td>\n",
       "      <td>Ctg</td>\n",
       "      <td>191792.06</td>\n",
       "    </tr>\n",
       "    <tr>\n",
       "      <th>2</th>\n",
       "      <td>153441.51</td>\n",
       "      <td>101145.55</td>\n",
       "      <td>407934.54</td>\n",
       "      <td>Rangpur</td>\n",
       "      <td>191050.39</td>\n",
       "    </tr>\n",
       "    <tr>\n",
       "      <th>3</th>\n",
       "      <td>144372.41</td>\n",
       "      <td>118671.85</td>\n",
       "      <td>383199.62</td>\n",
       "      <td>Dhaka</td>\n",
       "      <td>182901.99</td>\n",
       "    </tr>\n",
       "    <tr>\n",
       "      <th>4</th>\n",
       "      <td>142107.34</td>\n",
       "      <td>91391.77</td>\n",
       "      <td>366168.42</td>\n",
       "      <td>Rangpur</td>\n",
       "      <td>166187.94</td>\n",
       "    </tr>\n",
       "  </tbody>\n",
       "</table>\n",
       "</div>"
      ],
      "text/plain": [
       "   Marketing Spend  Administration  Transport     Area     Profit\n",
       "0        114523.61       136897.80  471784.10    Dhaka  192261.83\n",
       "1        162597.70       151377.59  443898.53      Ctg  191792.06\n",
       "2        153441.51       101145.55  407934.54  Rangpur  191050.39\n",
       "3        144372.41       118671.85  383199.62    Dhaka  182901.99\n",
       "4        142107.34        91391.77  366168.42  Rangpur  166187.94"
      ]
     },
     "execution_count": 63,
     "metadata": {},
     "output_type": "execute_result"
    }
   ],
   "source": [
    "df = pd.read_csv('F:\\Machine Learning\\Class 06\\Agora.csv')\n",
    "df.head()"
   ]
  },
  {
   "cell_type": "code",
   "execution_count": 64,
   "id": "2fceda58-5bf5-4508-a20e-b4dd2c86182c",
   "metadata": {},
   "outputs": [
    {
     "data": {
      "text/html": [
       "<div>\n",
       "<style scoped>\n",
       "    .dataframe tbody tr th:only-of-type {\n",
       "        vertical-align: middle;\n",
       "    }\n",
       "\n",
       "    .dataframe tbody tr th {\n",
       "        vertical-align: top;\n",
       "    }\n",
       "\n",
       "    .dataframe thead th {\n",
       "        text-align: right;\n",
       "    }\n",
       "</style>\n",
       "<table border=\"1\" class=\"dataframe\">\n",
       "  <thead>\n",
       "    <tr style=\"text-align: right;\">\n",
       "      <th></th>\n",
       "      <th>0</th>\n",
       "      <th>1</th>\n",
       "      <th>2</th>\n",
       "      <th>3</th>\n",
       "      <th>4</th>\n",
       "      <th>5</th>\n",
       "      <th>6</th>\n",
       "      <th>7</th>\n",
       "      <th>8</th>\n",
       "      <th>9</th>\n",
       "      <th>...</th>\n",
       "      <th>40</th>\n",
       "      <th>41</th>\n",
       "      <th>42</th>\n",
       "      <th>43</th>\n",
       "      <th>44</th>\n",
       "      <th>45</th>\n",
       "      <th>46</th>\n",
       "      <th>47</th>\n",
       "      <th>48</th>\n",
       "      <th>49</th>\n",
       "    </tr>\n",
       "  </thead>\n",
       "  <tbody>\n",
       "    <tr>\n",
       "      <th>Marketing Spend</th>\n",
       "      <td>114523.61</td>\n",
       "      <td>162597.7</td>\n",
       "      <td>153441.51</td>\n",
       "      <td>144372.41</td>\n",
       "      <td>142107.34</td>\n",
       "      <td>131876.9</td>\n",
       "      <td>134615.46</td>\n",
       "      <td>130298.13</td>\n",
       "      <td>120542.52</td>\n",
       "      <td>123334.88</td>\n",
       "      <td>...</td>\n",
       "      <td>28754.33</td>\n",
       "      <td>27892.92</td>\n",
       "      <td>23640.93</td>\n",
       "      <td>15505.73</td>\n",
       "      <td>22177.74</td>\n",
       "      <td>1000.23</td>\n",
       "      <td>1315.46</td>\n",
       "      <td>0.0</td>\n",
       "      <td>542.05</td>\n",
       "      <td>0.0</td>\n",
       "    </tr>\n",
       "    <tr>\n",
       "      <th>Administration</th>\n",
       "      <td>136897.8</td>\n",
       "      <td>151377.59</td>\n",
       "      <td>101145.55</td>\n",
       "      <td>118671.85</td>\n",
       "      <td>91391.77</td>\n",
       "      <td>99814.71</td>\n",
       "      <td>147198.87</td>\n",
       "      <td>145530.06</td>\n",
       "      <td>148718.95</td>\n",
       "      <td>108679.17</td>\n",
       "      <td>...</td>\n",
       "      <td>118546.05</td>\n",
       "      <td>84710.77</td>\n",
       "      <td>96189.63</td>\n",
       "      <td>127382.3</td>\n",
       "      <td>154806.14</td>\n",
       "      <td>124153.04</td>\n",
       "      <td>115816.21</td>\n",
       "      <td>135426.92</td>\n",
       "      <td>51743.15</td>\n",
       "      <td>116983.8</td>\n",
       "    </tr>\n",
       "    <tr>\n",
       "      <th>Transport</th>\n",
       "      <td>471784.1</td>\n",
       "      <td>443898.53</td>\n",
       "      <td>407934.54</td>\n",
       "      <td>383199.62</td>\n",
       "      <td>366168.42</td>\n",
       "      <td>362861.36</td>\n",
       "      <td>127716.82</td>\n",
       "      <td>323876.68</td>\n",
       "      <td>311613.29</td>\n",
       "      <td>304981.62</td>\n",
       "      <td>...</td>\n",
       "      <td>172795.67</td>\n",
       "      <td>164470.71</td>\n",
       "      <td>148001.11</td>\n",
       "      <td>35534.17</td>\n",
       "      <td>28334.72</td>\n",
       "      <td>1903.93</td>\n",
       "      <td>297114.46</td>\n",
       "      <td>0.0</td>\n",
       "      <td>0.0</td>\n",
       "      <td>45173.06</td>\n",
       "    </tr>\n",
       "    <tr>\n",
       "      <th>Area</th>\n",
       "      <td>Dhaka</td>\n",
       "      <td>Ctg</td>\n",
       "      <td>Rangpur</td>\n",
       "      <td>Dhaka</td>\n",
       "      <td>Rangpur</td>\n",
       "      <td>Dhaka</td>\n",
       "      <td>Ctg</td>\n",
       "      <td>Rangpur</td>\n",
       "      <td>Dhaka</td>\n",
       "      <td>Ctg</td>\n",
       "      <td>...</td>\n",
       "      <td>Ctg</td>\n",
       "      <td>Rangpur</td>\n",
       "      <td>Ctg</td>\n",
       "      <td>Dhaka</td>\n",
       "      <td>Ctg</td>\n",
       "      <td>Dhaka</td>\n",
       "      <td>Rangpur</td>\n",
       "      <td>Ctg</td>\n",
       "      <td>Dhaka</td>\n",
       "      <td>Ctg</td>\n",
       "    </tr>\n",
       "    <tr>\n",
       "      <th>Profit</th>\n",
       "      <td>192261.83</td>\n",
       "      <td>191792.06</td>\n",
       "      <td>191050.39</td>\n",
       "      <td>182901.99</td>\n",
       "      <td>166187.94</td>\n",
       "      <td>156991.12</td>\n",
       "      <td>156122.51</td>\n",
       "      <td>155752.6</td>\n",
       "      <td>152211.77</td>\n",
       "      <td>149759.96</td>\n",
       "      <td>...</td>\n",
       "      <td>78239.91</td>\n",
       "      <td>77798.83</td>\n",
       "      <td>71498.49</td>\n",
       "      <td>69758.98</td>\n",
       "      <td>65200.33</td>\n",
       "      <td>64926.08</td>\n",
       "      <td>49490.75</td>\n",
       "      <td>42559.73</td>\n",
       "      <td>35673.41</td>\n",
       "      <td>14681.4</td>\n",
       "    </tr>\n",
       "  </tbody>\n",
       "</table>\n",
       "<p>5 rows × 50 columns</p>\n",
       "</div>"
      ],
      "text/plain": [
       "                        0          1          2          3          4   \\\n",
       "Marketing Spend  114523.61   162597.7  153441.51  144372.41  142107.34   \n",
       "Administration    136897.8  151377.59  101145.55  118671.85   91391.77   \n",
       "Transport         471784.1  443898.53  407934.54  383199.62  366168.42   \n",
       "Area                 Dhaka        Ctg    Rangpur      Dhaka    Rangpur   \n",
       "Profit           192261.83  191792.06  191050.39  182901.99  166187.94   \n",
       "\n",
       "                        5          6          7          8          9   ...  \\\n",
       "Marketing Spend   131876.9  134615.46  130298.13  120542.52  123334.88  ...   \n",
       "Administration    99814.71  147198.87  145530.06  148718.95  108679.17  ...   \n",
       "Transport        362861.36  127716.82  323876.68  311613.29  304981.62  ...   \n",
       "Area                 Dhaka        Ctg    Rangpur      Dhaka        Ctg  ...   \n",
       "Profit           156991.12  156122.51   155752.6  152211.77  149759.96  ...   \n",
       "\n",
       "                        40         41         42        43         44  \\\n",
       "Marketing Spend   28754.33   27892.92   23640.93  15505.73   22177.74   \n",
       "Administration   118546.05   84710.77   96189.63  127382.3  154806.14   \n",
       "Transport        172795.67  164470.71  148001.11  35534.17   28334.72   \n",
       "Area                   Ctg    Rangpur        Ctg     Dhaka        Ctg   \n",
       "Profit            78239.91   77798.83   71498.49  69758.98   65200.33   \n",
       "\n",
       "                        45         46         47        48        49  \n",
       "Marketing Spend    1000.23    1315.46        0.0    542.05       0.0  \n",
       "Administration   124153.04  115816.21  135426.92  51743.15  116983.8  \n",
       "Transport          1903.93  297114.46        0.0       0.0  45173.06  \n",
       "Area                 Dhaka    Rangpur        Ctg     Dhaka       Ctg  \n",
       "Profit            64926.08   49490.75   42559.73  35673.41   14681.4  \n",
       "\n",
       "[5 rows x 50 columns]"
      ]
     },
     "execution_count": 64,
     "metadata": {},
     "output_type": "execute_result"
    }
   ],
   "source": [
    "df.T"
   ]
  },
  {
   "cell_type": "code",
   "execution_count": 65,
   "id": "392675ee-4671-4e1e-9e88-33c73e1985c7",
   "metadata": {},
   "outputs": [
    {
     "data": {
      "text/plain": [
       "Marketing Spend    0\n",
       "Administration     0\n",
       "Transport          1\n",
       "Area               0\n",
       "Profit             0\n",
       "dtype: int64"
      ]
     },
     "execution_count": 65,
     "metadata": {},
     "output_type": "execute_result"
    }
   ],
   "source": [
    "df.isnull().sum()"
   ]
  },
  {
   "cell_type": "code",
   "execution_count": 66,
   "id": "763edaac-1fbf-48c7-92c3-71e40d7b10da",
   "metadata": {},
   "outputs": [
    {
     "data": {
      "text/plain": [
       "215331.73244897963"
      ]
     },
     "execution_count": 66,
     "metadata": {},
     "output_type": "execute_result"
    }
   ],
   "source": [
    "mean = df.Transport.mean()\n",
    "mean"
   ]
  },
  {
   "cell_type": "code",
   "execution_count": 67,
   "id": "4ee11458-0cc4-43e0-96a0-98773bae6dca",
   "metadata": {},
   "outputs": [],
   "source": [
    "df.Transport = df.Transport.fillna(mean)"
   ]
  },
  {
   "cell_type": "code",
   "execution_count": 68,
   "id": "f8873af2-f6e1-422f-82a5-b7be06c586cf",
   "metadata": {},
   "outputs": [
    {
     "data": {
      "text/plain": [
       "Marketing Spend    0\n",
       "Administration     0\n",
       "Transport          0\n",
       "Area               0\n",
       "Profit             0\n",
       "dtype: int64"
      ]
     },
     "execution_count": 68,
     "metadata": {},
     "output_type": "execute_result"
    }
   ],
   "source": [
    "df.isnull().sum()"
   ]
  },
  {
   "cell_type": "markdown",
   "id": "18013525-d8fc-42a2-a031-8c93e086d14d",
   "metadata": {},
   "source": [
    "**Lebel Incoder**"
   ]
  },
  {
   "cell_type": "code",
   "execution_count": 69,
   "id": "df4aeb4b-36c6-4770-96db-130499e5307d",
   "metadata": {},
   "outputs": [],
   "source": [
    "label = LabelEncoder()"
   ]
  },
  {
   "cell_type": "code",
   "execution_count": 70,
   "id": "4fd54687-0606-47de-8405-338276f480ca",
   "metadata": {},
   "outputs": [],
   "source": [
    "df.Area = label.fit_transform(df['Area'])"
   ]
  },
  {
   "cell_type": "code",
   "execution_count": 71,
   "id": "18954dd5-89da-4478-8265-785f64700480",
   "metadata": {},
   "outputs": [
    {
     "data": {
      "text/html": [
       "<div>\n",
       "<style scoped>\n",
       "    .dataframe tbody tr th:only-of-type {\n",
       "        vertical-align: middle;\n",
       "    }\n",
       "\n",
       "    .dataframe tbody tr th {\n",
       "        vertical-align: top;\n",
       "    }\n",
       "\n",
       "    .dataframe thead th {\n",
       "        text-align: right;\n",
       "    }\n",
       "</style>\n",
       "<table border=\"1\" class=\"dataframe\">\n",
       "  <thead>\n",
       "    <tr style=\"text-align: right;\">\n",
       "      <th></th>\n",
       "      <th>Marketing Spend</th>\n",
       "      <th>Administration</th>\n",
       "      <th>Transport</th>\n",
       "      <th>Area</th>\n",
       "      <th>Profit</th>\n",
       "    </tr>\n",
       "  </thead>\n",
       "  <tbody>\n",
       "    <tr>\n",
       "      <th>0</th>\n",
       "      <td>114523.61</td>\n",
       "      <td>136897.80</td>\n",
       "      <td>471784.10</td>\n",
       "      <td>1</td>\n",
       "      <td>192261.83</td>\n",
       "    </tr>\n",
       "    <tr>\n",
       "      <th>1</th>\n",
       "      <td>162597.70</td>\n",
       "      <td>151377.59</td>\n",
       "      <td>443898.53</td>\n",
       "      <td>0</td>\n",
       "      <td>191792.06</td>\n",
       "    </tr>\n",
       "    <tr>\n",
       "      <th>2</th>\n",
       "      <td>153441.51</td>\n",
       "      <td>101145.55</td>\n",
       "      <td>407934.54</td>\n",
       "      <td>2</td>\n",
       "      <td>191050.39</td>\n",
       "    </tr>\n",
       "    <tr>\n",
       "      <th>3</th>\n",
       "      <td>144372.41</td>\n",
       "      <td>118671.85</td>\n",
       "      <td>383199.62</td>\n",
       "      <td>1</td>\n",
       "      <td>182901.99</td>\n",
       "    </tr>\n",
       "    <tr>\n",
       "      <th>4</th>\n",
       "      <td>142107.34</td>\n",
       "      <td>91391.77</td>\n",
       "      <td>366168.42</td>\n",
       "      <td>2</td>\n",
       "      <td>166187.94</td>\n",
       "    </tr>\n",
       "  </tbody>\n",
       "</table>\n",
       "</div>"
      ],
      "text/plain": [
       "   Marketing Spend  Administration  Transport  Area     Profit\n",
       "0        114523.61       136897.80  471784.10     1  192261.83\n",
       "1        162597.70       151377.59  443898.53     0  191792.06\n",
       "2        153441.51       101145.55  407934.54     2  191050.39\n",
       "3        144372.41       118671.85  383199.62     1  182901.99\n",
       "4        142107.34        91391.77  366168.42     2  166187.94"
      ]
     },
     "execution_count": 71,
     "metadata": {},
     "output_type": "execute_result"
    }
   ],
   "source": [
    "df.head()"
   ]
  },
  {
   "cell_type": "code",
   "execution_count": 72,
   "id": "b55d5dfb-a733-444f-a6c7-fca5ee310b22",
   "metadata": {},
   "outputs": [
    {
     "data": {
      "text/html": [
       "<div>\n",
       "<style scoped>\n",
       "    .dataframe tbody tr th:only-of-type {\n",
       "        vertical-align: middle;\n",
       "    }\n",
       "\n",
       "    .dataframe tbody tr th {\n",
       "        vertical-align: top;\n",
       "    }\n",
       "\n",
       "    .dataframe thead th {\n",
       "        text-align: right;\n",
       "    }\n",
       "</style>\n",
       "<table border=\"1\" class=\"dataframe\">\n",
       "  <thead>\n",
       "    <tr style=\"text-align: right;\">\n",
       "      <th></th>\n",
       "      <th>Marketing Spend</th>\n",
       "      <th>Administration</th>\n",
       "      <th>Transport</th>\n",
       "      <th>Area</th>\n",
       "    </tr>\n",
       "  </thead>\n",
       "  <tbody>\n",
       "    <tr>\n",
       "      <th>0</th>\n",
       "      <td>114523.61</td>\n",
       "      <td>136897.80</td>\n",
       "      <td>471784.10</td>\n",
       "      <td>1</td>\n",
       "    </tr>\n",
       "    <tr>\n",
       "      <th>1</th>\n",
       "      <td>162597.70</td>\n",
       "      <td>151377.59</td>\n",
       "      <td>443898.53</td>\n",
       "      <td>0</td>\n",
       "    </tr>\n",
       "    <tr>\n",
       "      <th>2</th>\n",
       "      <td>153441.51</td>\n",
       "      <td>101145.55</td>\n",
       "      <td>407934.54</td>\n",
       "      <td>2</td>\n",
       "    </tr>\n",
       "    <tr>\n",
       "      <th>3</th>\n",
       "      <td>144372.41</td>\n",
       "      <td>118671.85</td>\n",
       "      <td>383199.62</td>\n",
       "      <td>1</td>\n",
       "    </tr>\n",
       "    <tr>\n",
       "      <th>4</th>\n",
       "      <td>142107.34</td>\n",
       "      <td>91391.77</td>\n",
       "      <td>366168.42</td>\n",
       "      <td>2</td>\n",
       "    </tr>\n",
       "  </tbody>\n",
       "</table>\n",
       "</div>"
      ],
      "text/plain": [
       "   Marketing Spend  Administration  Transport  Area\n",
       "0        114523.61       136897.80  471784.10     1\n",
       "1        162597.70       151377.59  443898.53     0\n",
       "2        153441.51       101145.55  407934.54     2\n",
       "3        144372.41       118671.85  383199.62     1\n",
       "4        142107.34        91391.77  366168.42     2"
      ]
     },
     "execution_count": 72,
     "metadata": {},
     "output_type": "execute_result"
    }
   ],
   "source": [
    "x = df.drop('Profit',axis=1)\n",
    "x.head()"
   ]
  },
  {
   "cell_type": "code",
   "execution_count": 73,
   "id": "fd3d9705-2946-4ab5-836e-4d66c5f3bb03",
   "metadata": {},
   "outputs": [
    {
     "data": {
      "text/html": [
       "<div>\n",
       "<style scoped>\n",
       "    .dataframe tbody tr th:only-of-type {\n",
       "        vertical-align: middle;\n",
       "    }\n",
       "\n",
       "    .dataframe tbody tr th {\n",
       "        vertical-align: top;\n",
       "    }\n",
       "\n",
       "    .dataframe thead th {\n",
       "        text-align: right;\n",
       "    }\n",
       "</style>\n",
       "<table border=\"1\" class=\"dataframe\">\n",
       "  <thead>\n",
       "    <tr style=\"text-align: right;\">\n",
       "      <th></th>\n",
       "      <th>Profit</th>\n",
       "    </tr>\n",
       "  </thead>\n",
       "  <tbody>\n",
       "    <tr>\n",
       "      <th>0</th>\n",
       "      <td>192261.83</td>\n",
       "    </tr>\n",
       "    <tr>\n",
       "      <th>1</th>\n",
       "      <td>191792.06</td>\n",
       "    </tr>\n",
       "    <tr>\n",
       "      <th>2</th>\n",
       "      <td>191050.39</td>\n",
       "    </tr>\n",
       "    <tr>\n",
       "      <th>3</th>\n",
       "      <td>182901.99</td>\n",
       "    </tr>\n",
       "    <tr>\n",
       "      <th>4</th>\n",
       "      <td>166187.94</td>\n",
       "    </tr>\n",
       "  </tbody>\n",
       "</table>\n",
       "</div>"
      ],
      "text/plain": [
       "      Profit\n",
       "0  192261.83\n",
       "1  191792.06\n",
       "2  191050.39\n",
       "3  182901.99\n",
       "4  166187.94"
      ]
     },
     "execution_count": 73,
     "metadata": {},
     "output_type": "execute_result"
    }
   ],
   "source": [
    "y = df.drop(x,axis=1)\n",
    "y.head()"
   ]
  },
  {
   "cell_type": "markdown",
   "id": "33451b28-4086-4262-9698-92889615bd59",
   "metadata": {},
   "source": [
    "**Standardization**"
   ]
  },
  {
   "cell_type": "code",
   "execution_count": 74,
   "id": "8ae318e1-49ca-4bb6-9a84-2a4e9f2d1b2d",
   "metadata": {},
   "outputs": [],
   "source": [
    "standardScaler = StandardScaler()"
   ]
  },
  {
   "cell_type": "code",
   "execution_count": 75,
   "id": "5bb98fe1-0f42-4399-bccb-788c92949077",
   "metadata": {},
   "outputs": [],
   "source": [
    "new_x = standardScaler.fit_transform(x)\n",
    "df = pd.DataFrame(new_x, columns = x.columns)"
   ]
  },
  {
   "cell_type": "code",
   "execution_count": 76,
   "id": "094df263-1ddf-45db-b36b-ea606b90d660",
   "metadata": {},
   "outputs": [
    {
     "data": {
      "text/html": [
       "<div>\n",
       "<style scoped>\n",
       "    .dataframe tbody tr th:only-of-type {\n",
       "        vertical-align: middle;\n",
       "    }\n",
       "\n",
       "    .dataframe tbody tr th {\n",
       "        vertical-align: top;\n",
       "    }\n",
       "\n",
       "    .dataframe thead th {\n",
       "        text-align: right;\n",
       "    }\n",
       "</style>\n",
       "<table border=\"1\" class=\"dataframe\">\n",
       "  <thead>\n",
       "    <tr style=\"text-align: right;\">\n",
       "      <th></th>\n",
       "      <th>Marketing Spend</th>\n",
       "      <th>Administration</th>\n",
       "      <th>Transport</th>\n",
       "      <th>Area</th>\n",
       "    </tr>\n",
       "  </thead>\n",
       "  <tbody>\n",
       "    <tr>\n",
       "      <th>0</th>\n",
       "      <td>0.897913</td>\n",
       "      <td>0.560753</td>\n",
       "      <td>2.187271</td>\n",
       "      <td>0.024626</td>\n",
       "    </tr>\n",
       "    <tr>\n",
       "      <th>1</th>\n",
       "      <td>1.955860</td>\n",
       "      <td>1.082807</td>\n",
       "      <td>1.949436</td>\n",
       "      <td>-1.206662</td>\n",
       "    </tr>\n",
       "    <tr>\n",
       "      <th>2</th>\n",
       "      <td>1.754364</td>\n",
       "      <td>-0.728257</td>\n",
       "      <td>1.642701</td>\n",
       "      <td>1.255914</td>\n",
       "    </tr>\n",
       "    <tr>\n",
       "      <th>3</th>\n",
       "      <td>1.554784</td>\n",
       "      <td>-0.096365</td>\n",
       "      <td>1.431738</td>\n",
       "      <td>0.024626</td>\n",
       "    </tr>\n",
       "    <tr>\n",
       "      <th>4</th>\n",
       "      <td>1.504937</td>\n",
       "      <td>-1.079919</td>\n",
       "      <td>1.286479</td>\n",
       "      <td>1.255914</td>\n",
       "    </tr>\n",
       "  </tbody>\n",
       "</table>\n",
       "</div>"
      ],
      "text/plain": [
       "   Marketing Spend  Administration  Transport      Area\n",
       "0         0.897913        0.560753   2.187271  0.024626\n",
       "1         1.955860        1.082807   1.949436 -1.206662\n",
       "2         1.754364       -0.728257   1.642701  1.255914\n",
       "3         1.554784       -0.096365   1.431738  0.024626\n",
       "4         1.504937       -1.079919   1.286479  1.255914"
      ]
     },
     "execution_count": 76,
     "metadata": {},
     "output_type": "execute_result"
    }
   ],
   "source": [
    "df.head()"
   ]
  },
  {
   "cell_type": "markdown",
   "id": "58583fa8-cd5f-4657-941f-fa1c01fa4a77",
   "metadata": {},
   "source": [
    "**dataset spliting**"
   ]
  },
  {
   "cell_type": "code",
   "execution_count": 77,
   "id": "1784ef55-d270-4be7-beca-3a271ce5b909",
   "metadata": {},
   "outputs": [],
   "source": [
    "xtrain, xtest, ytrain, ytest = train_test_split(new_x, y, test_size = .30, random_state = 12)"
   ]
  },
  {
   "cell_type": "code",
   "execution_count": 78,
   "id": "7a25d8d3-80a8-402d-84d8-23c6ce595ec5",
   "metadata": {
    "tags": []
   },
   "outputs": [
    {
     "data": {
      "text/plain": [
       "array([[ 1.01718075,  1.26919939,  0.35123249,  1.25591385],\n",
       "       [ 0.0353702 ,  0.82171792, -0.69324763,  1.25591385],\n",
       "       [ 1.09181921, -0.45664025,  0.76461985, -1.20666232],\n",
       "       [-0.40112892, -0.65932403, -0.00594402,  1.25591385],\n",
       "       [-1.62236202,  0.50772188, -1.83655463, -1.20666232],\n",
       "       [ 0.05572609, -0.26958765,  0.71074116, -1.20666232],\n",
       "       [ 0.0944412 ,  0.00911842,  0.41804099, -1.20666232],\n",
       "       [ 0.0731146 , -0.79546917, -0.63759842,  0.02462576],\n",
       "       [-1.10210556, -0.90693753, -0.57425984, -1.20666232],\n",
       "       [-0.22694868,  0.28392381, -1.44349561, -1.20666232],\n",
       "       [-0.60974994, -1.30865753, -0.08370395,  0.02462576],\n",
       "       [-0.13620072, -0.56221127,  0.76280412,  1.25591385],\n",
       "       [ 1.95586034,  1.08280658,  1.94943591, -1.20666232],\n",
       "       [-0.25807437, -0.20562866, -1.0593004 ,  1.25591385],\n",
       "       [ 1.5049372 , -1.07991935,  1.2864793 ,  1.25591385],\n",
       "       [-1.13430539,  1.20641936, -1.59488908, -1.20666232],\n",
       "       [-0.77382036, -1.38312156, -0.3439935 , -1.20666232],\n",
       "       [ 0.39672494, -0.25846537,  0.67880108,  1.25591385],\n",
       "       [-0.98957702, -0.10090022, -0.36278816, -1.20666232],\n",
       "       [-1.28113364,  0.21768152, -1.5334853 ,  0.02462576],\n",
       "       [ 0.89791312,  0.56075291,  2.18727067,  0.02462576],\n",
       "       [ 0.62039825, -0.38759909,  0.11794877,  1.25591385],\n",
       "       [-1.62236202, -0.15722551, -1.45127564, -1.20666232],\n",
       "       [-0.60068212,  1.31053525, -0.03867081, -1.20666232],\n",
       "       [-0.19931169,  0.65648914, -0.65987767, -1.20666232],\n",
       "       [ 0.4020776 ,  0.51017895,  0.31841316, -1.20666232],\n",
       "       [ 1.27980001, -0.77623907,  1.25827354,  0.02462576],\n",
       "       [ 0.00600658,  0.05184956,  0.75044165,  1.25591385],\n",
       "       [ 0.44325987,  0.21544906,  0.29431468,  1.25591385],\n",
       "       [-1.60035036,  0.10125394, -1.8203161 ,  0.02462576],\n",
       "       [ 1.55478369, -0.09636463,  1.43173764,  0.02462576],\n",
       "       [ 1.75436374, -0.72825703,  1.64270066,  1.25591385],\n",
       "       [ 1.34006641,  0.93214721, -0.74726364, -1.20666232],\n",
       "       [-0.03551899,  0.23506854,  1.17573415,  0.02462576],\n",
       "       [ 0.59308542, -1.0655396 ,  0.29350537, -1.20666232]])"
      ]
     },
     "execution_count": 78,
     "metadata": {},
     "output_type": "execute_result"
    }
   ],
   "source": [
    "xtrain"
   ]
  },
  {
   "cell_type": "code",
   "execution_count": 79,
   "id": "d0444a74-f7f7-4bb8-b3ba-8c58afcee13f",
   "metadata": {},
   "outputs": [
    {
     "data": {
      "text/html": [
       "<div>\n",
       "<style scoped>\n",
       "    .dataframe tbody tr th:only-of-type {\n",
       "        vertical-align: middle;\n",
       "    }\n",
       "\n",
       "    .dataframe tbody tr th {\n",
       "        vertical-align: top;\n",
       "    }\n",
       "\n",
       "    .dataframe thead th {\n",
       "        text-align: right;\n",
       "    }\n",
       "</style>\n",
       "<table border=\"1\" class=\"dataframe\">\n",
       "  <thead>\n",
       "    <tr style=\"text-align: right;\">\n",
       "      <th></th>\n",
       "      <th>Profit</th>\n",
       "    </tr>\n",
       "  </thead>\n",
       "  <tbody>\n",
       "    <tr>\n",
       "      <th>14</th>\n",
       "      <td>132602.65</td>\n",
       "    </tr>\n",
       "    <tr>\n",
       "      <th>26</th>\n",
       "      <td>105733.54</td>\n",
       "    </tr>\n",
       "    <tr>\n",
       "      <th>9</th>\n",
       "      <td>149759.96</td>\n",
       "    </tr>\n",
       "    <tr>\n",
       "      <th>33</th>\n",
       "      <td>96778.92</td>\n",
       "    </tr>\n",
       "    <tr>\n",
       "      <th>47</th>\n",
       "      <td>42559.73</td>\n",
       "    </tr>\n",
       "  </tbody>\n",
       "</table>\n",
       "</div>"
      ],
      "text/plain": [
       "       Profit\n",
       "14  132602.65\n",
       "26  105733.54\n",
       "9   149759.96\n",
       "33   96778.92\n",
       "47   42559.73"
      ]
     },
     "execution_count": 79,
     "metadata": {},
     "output_type": "execute_result"
    }
   ],
   "source": [
    "ytrain.head()"
   ]
  },
  {
   "cell_type": "code",
   "execution_count": 80,
   "id": "f77f1002-7c98-446f-bb59-20a3ec20d4b4",
   "metadata": {
    "tags": []
   },
   "outputs": [
    {
     "data": {
      "text/plain": [
       "array([[-1.68792717e-01,  2.21014050e+00, -8.28873964e-01,\n",
       "         1.25591385e+00],\n",
       "       [-1.59341322e+00, -1.99321741e-01,  6.97521194e-01,\n",
       "         1.25591385e+00],\n",
       "       [ 1.24505666e+00,  8.71980011e-01,  9.25774961e-01,\n",
       "         1.25591385e+00],\n",
       "       [-1.00853372e+00, -1.32079581e+00, -4.33791366e-01,\n",
       "         1.25591385e+00],\n",
       "       [-9.91570153e-01,  2.05924691e-01, -1.21153057e-01,\n",
       "         1.25591385e+00],\n",
       "       [-1.78608540e-01,  1.14245677e+00, -9.22776222e-01,\n",
       "         2.46257617e-02],\n",
       "       [ 1.02723599e-01,  1.16918609e+00,  7.19891193e-01,\n",
       "         2.46257617e-02],\n",
       "       [-1.61043334e+00, -2.50940884e+00, -1.83655463e+00,\n",
       "         2.46257617e-02],\n",
       "       [ 2.79441650e-01,  1.15983657e+00,  4.96450514e-16,\n",
       "         2.46257617e-02],\n",
       "       [ 1.03036886e+00,  9.86952101e-01,  8.21181061e-01,\n",
       "         2.46257617e-02],\n",
       "       [ 4.60720127e-01,  8.55666318e-01,  5.73508910e-01,\n",
       "         2.46257617e-02],\n",
       "       [-1.17717755e+00, -1.99727037e+00, -2.56436952e-01,\n",
       "         2.46257617e-02],\n",
       "       [-6.52532310e-01, -2.52599402e+00, -1.56099597e-01,\n",
       "        -1.20666232e+00],\n",
       "       [ 2.01641149e+00,  4.58678535e-02,  3.96123024e-01,\n",
       "         2.46257617e-02],\n",
       "       [-2.76958231e-01,  1.13055391e+00, -1.08414533e+00,\n",
       "         2.46257617e-02]])"
      ]
     },
     "execution_count": 80,
     "metadata": {},
     "output_type": "execute_result"
    }
   ],
   "source": [
    "xtest"
   ]
  },
  {
   "cell_type": "code",
   "execution_count": 81,
   "id": "78397e93-7bdd-40a6-a2e0-90b8e37c5baa",
   "metadata": {},
   "outputs": [
    {
     "data": {
      "text/html": [
       "<div>\n",
       "<style scoped>\n",
       "    .dataframe tbody tr th:only-of-type {\n",
       "        vertical-align: middle;\n",
       "    }\n",
       "\n",
       "    .dataframe tbody tr th {\n",
       "        vertical-align: top;\n",
       "    }\n",
       "\n",
       "    .dataframe thead th {\n",
       "        text-align: right;\n",
       "    }\n",
       "</style>\n",
       "<table border=\"1\" class=\"dataframe\">\n",
       "  <thead>\n",
       "    <tr style=\"text-align: right;\">\n",
       "      <th></th>\n",
       "      <th>Profit</th>\n",
       "    </tr>\n",
       "  </thead>\n",
       "  <tbody>\n",
       "    <tr>\n",
       "      <th>28</th>\n",
       "      <td>103282.38</td>\n",
       "    </tr>\n",
       "    <tr>\n",
       "      <th>46</th>\n",
       "      <td>49490.75</td>\n",
       "    </tr>\n",
       "    <tr>\n",
       "      <th>7</th>\n",
       "      <td>155752.60</td>\n",
       "    </tr>\n",
       "    <tr>\n",
       "      <th>41</th>\n",
       "      <td>77798.83</td>\n",
       "    </tr>\n",
       "    <tr>\n",
       "      <th>36</th>\n",
       "      <td>90708.19</td>\n",
       "    </tr>\n",
       "  </tbody>\n",
       "</table>\n",
       "</div>"
      ],
      "text/plain": [
       "       Profit\n",
       "28  103282.38\n",
       "46   49490.75\n",
       "7   155752.60\n",
       "41   77798.83\n",
       "36   90708.19"
      ]
     },
     "execution_count": 81,
     "metadata": {},
     "output_type": "execute_result"
    }
   ],
   "source": [
    "ytest.head()"
   ]
  },
  {
   "cell_type": "markdown",
   "id": "a0f76504-a6a7-4c5d-a31d-087b91a0bb69",
   "metadata": {},
   "source": [
    "**train the model**"
   ]
  },
  {
   "cell_type": "code",
   "execution_count": 82,
   "id": "813aace6-9d62-4b20-8a55-60d58cc118c5",
   "metadata": {},
   "outputs": [],
   "source": [
    "from sklearn.linear_model  import SGDRegressor"
   ]
  },
  {
   "cell_type": "code",
   "execution_count": 83,
   "id": "ad6f5eba-6d79-4c27-96f9-1c4d8bf67633",
   "metadata": {},
   "outputs": [],
   "source": [
    "sgd = SGDRegressor()"
   ]
  },
  {
   "cell_type": "code",
   "execution_count": 84,
   "id": "f487e75a-5e49-49c1-a55f-7d2f659f2a36",
   "metadata": {},
   "outputs": [
    {
     "name": "stderr",
     "output_type": "stream",
     "text": [
      "C:\\ProgramData\\Anaconda3\\lib\\site-packages\\sklearn\\utils\\validation.py:63: DataConversionWarning: A column-vector y was passed when a 1d array was expected. Please change the shape of y to (n_samples, ), for example using ravel().\n",
      "  return f(*args, **kwargs)\n"
     ]
    },
    {
     "data": {
      "text/plain": [
       "SGDRegressor()"
      ]
     },
     "execution_count": 84,
     "metadata": {},
     "output_type": "execute_result"
    }
   ],
   "source": [
    "sgd.fit(xtrain, ytrain)"
   ]
  },
  {
   "cell_type": "code",
   "execution_count": 85,
   "id": "0ddceab6-f26f-49c6-a7da-382977392d77",
   "metadata": {},
   "outputs": [
    {
     "data": {
      "text/plain": [
       "array([103696.34539075,  64466.39406775, 164130.18767831,  73710.13464086,\n",
       "        78826.54703928, 101648.76807207, 124513.19020291,  40816.86535974,\n",
       "       124685.6823926 , 156597.96793214, 135075.78865097,  68976.10299364,\n",
       "        87361.57918081, 185411.87673459,  96988.72379186])"
      ]
     },
     "execution_count": 85,
     "metadata": {},
     "output_type": "execute_result"
    }
   ],
   "source": [
    "ypred = sgd.predict(xtest)\n",
    "ypred"
   ]
  },
  {
   "cell_type": "markdown",
   "id": "cfa00b6a-b476-4cb5-b09b-9b0f8fbd95bd",
   "metadata": {},
   "source": [
    "**MSE**"
   ]
  },
  {
   "cell_type": "code",
   "execution_count": 86,
   "id": "206198b3-ad5c-461e-ba59-cf4f1b7a130c",
   "metadata": {},
   "outputs": [
    {
     "data": {
      "text/plain": [
       "267164022.29067802"
      ]
     },
     "execution_count": 86,
     "metadata": {},
     "output_type": "execute_result"
    }
   ],
   "source": [
    "mean_squared_error(ytest, ypred)"
   ]
  },
  {
   "cell_type": "markdown",
   "id": "fb0dad64-522d-4af0-b54a-476004e2e299",
   "metadata": {},
   "source": [
    "**score**"
   ]
  },
  {
   "cell_type": "code",
   "execution_count": 87,
   "id": "bfda1746-6c73-4755-88f4-20f8a1a3689d",
   "metadata": {},
   "outputs": [
    {
     "data": {
      "text/plain": [
       "0.7450953086204477"
      ]
     },
     "execution_count": 87,
     "metadata": {},
     "output_type": "execute_result"
    }
   ],
   "source": [
    "sgd.score(xtest, ytest)## R-squard value"
   ]
  },
  {
   "cell_type": "markdown",
   "id": "5f054a60-3cad-4b60-9282-c29d205cd55b",
   "metadata": {},
   "source": [
    "**r2_score**"
   ]
  },
  {
   "cell_type": "code",
   "execution_count": 88,
   "id": "3de47250-37fc-4ec4-8e71-cf40351e1fcd",
   "metadata": {},
   "outputs": [
    {
     "data": {
      "text/plain": [
       "0.7450953086204477"
      ]
     },
     "execution_count": 88,
     "metadata": {},
     "output_type": "execute_result"
    }
   ],
   "source": [
    "r2_score(ytest, ypred) ## R-squard value"
   ]
  }
 ],
 "metadata": {
  "kernelspec": {
   "display_name": "Python 3",
   "language": "python",
   "name": "python3"
  },
  "language_info": {
   "codemirror_mode": {
    "name": "ipython",
    "version": 3
   },
   "file_extension": ".py",
   "mimetype": "text/x-python",
   "name": "python",
   "nbconvert_exporter": "python",
   "pygments_lexer": "ipython3",
   "version": "3.8.8"
  }
 },
 "nbformat": 4,
 "nbformat_minor": 5
}
